{
 "cells": [
  {
   "cell_type": "code",
   "execution_count": 1,
   "id": "3bbc07f6-e4da-42a4-9ed3-e3f53f84ab6a",
   "metadata": {},
   "outputs": [],
   "source": [
    "import pickle\n",
    "import torch\n",
    "from src.utils import dist2prob, calibrate_fdr, predict"
   ]
  },
  {
   "cell_type": "markdown",
   "id": "058c1e73-319f-433d-8853-a5065870ae75",
   "metadata": {},
   "source": [
    "## 1. Load and preprocess data fromo PenLight2"
   ]
  },
  {
   "cell_type": "code",
   "execution_count": 2,
   "id": "3dfadb0d-03cb-4ee7-82cc-09ac41205e2f",
   "metadata": {},
   "outputs": [
    {
     "name": "stdout",
     "output_type": "stream",
     "text": [
      "Calibration set size: 782\n",
      "Test set size: 1837\n"
     ]
    }
   ],
   "source": [
    "seed = 0\n",
    "\n",
    "_, train_dist, train_labels, train_idx2up, train_idx2ec = pickle.load(open(f'../example_data/train_{seed}.pkl', 'rb'))\n",
    "_, cal_dist, cal_labels, cal_idx2prot, cal_idx2ec = pickle.load(open(f'../example_data/calib_{seed}.pkl', 'rb'))\n",
    "_, test_dist, test_labels, test_idx2prot, test_idx2ec = pickle.load(open(f'../example_data/test_{seed}.pkl', 'rb'))\n",
    "cal_labels = cal_labels.bool()\n",
    "test_labels = test_labels.bool()\n",
    "\n",
    "# transform distance values into probability values\n",
    "cal_prob = dist2prob(train_dist, cal_dist)\n",
    "test_prob = dist2prob(train_dist, test_dist)\n",
    "\n",
    "print(f'Calibration set size: {cal_prob.shape[0]}')\n",
    "print(f'Test set size: {test_prob.shape[0]}')"
   ]
  },
  {
   "cell_type": "markdown",
   "id": "d32b7b29-7703-49cd-8546-4c9c4a7493e8",
   "metadata": {},
   "source": [
    "## 2. Calibration: calibration set"
   ]
  },
  {
   "cell_type": "code",
   "execution_count": 3,
   "id": "05333a44-9bc0-4006-94af-d23fda8ed673",
   "metadata": {},
   "outputs": [
    {
     "name": "stdout",
     "output_type": "stream",
     "text": [
      "FDR tolerance alpha: 0.1\n",
      "Valid model parameter lambda: 0.8787878751754761\n"
     ]
    }
   ],
   "source": [
    "alpha = 0.1 # FDR tolerance\n",
    "delta = 0.1 # Significance value\n",
    "N = 100 # total number of candidate model parameters\n",
    "\n",
    "# acquire rejection set lambda_hats and final valid parameter lambda_hat\n",
    "lambda_hats = calibrate_fdr(alpha, delta, cal_prob, cal_labels, N)\n",
    "lambda_hat = lambda_hats[0]\n",
    "\n",
    "print(f'FDR tolerance alpha: {alpha}')\n",
    "print(f'Valid model parameter lambda: {lambda_hat}')"
   ]
  },
  {
   "cell_type": "markdown",
   "id": "f64f7691-155e-4bba-9e9b-e48c40a65ef9",
   "metadata": {},
   "source": [
    "## 3. Prediction: test set"
   ]
  },
  {
   "cell_type": "code",
   "execution_count": 4,
   "id": "bd7ac01d-60a3-43c3-a05f-dc9af4fbc790",
   "metadata": {},
   "outputs": [
    {
     "name": "stdout",
     "output_type": "stream",
     "text": [
      "Observed FDR: 0.0455\n",
      "Precision: 0.9545\n",
      "Recall: 0.4932\n",
      "nDCG: 0.5702\n"
     ]
    }
   ],
   "source": [
    "observed_fdr, precision, recall, ndcg, df = predict(test_prob, test_labels, lambda_hat, test_idx2prot, test_idx2ec)\n",
    "print(f'Observed FDR: {observed_fdr:.4f}')\n",
    "print(f'Precision: {precision:.4f}')\n",
    "print(f'Recall: {recall:.4f}')\n",
    "print(f'nDCG: {ndcg:.4f}')"
   ]
  },
  {
   "cell_type": "code",
   "execution_count": 5,
   "id": "c12d59cf-bc2b-4c1a-8f2a-bf8e4cd4dc2a",
   "metadata": {},
   "outputs": [
    {
     "data": {
      "text/html": [
       "<div>\n",
       "<style scoped>\n",
       "    .dataframe tbody tr th:only-of-type {\n",
       "        vertical-align: middle;\n",
       "    }\n",
       "\n",
       "    .dataframe tbody tr th {\n",
       "        vertical-align: top;\n",
       "    }\n",
       "\n",
       "    .dataframe thead th {\n",
       "        text-align: right;\n",
       "    }\n",
       "</style>\n",
       "<table border=\"1\" class=\"dataframe\">\n",
       "  <thead>\n",
       "    <tr style=\"text-align: right;\">\n",
       "      <th></th>\n",
       "      <th>PDB-chain</th>\n",
       "      <th>Ground truth</th>\n",
       "      <th>CPEC prediction</th>\n",
       "    </tr>\n",
       "  </thead>\n",
       "  <tbody>\n",
       "    <tr>\n",
       "      <th>0</th>\n",
       "      <td>2FOR-A</td>\n",
       "      <td>[2.5.1.10]</td>\n",
       "      <td>[2.5.1.10, 2.5.1.1]</td>\n",
       "    </tr>\n",
       "    <tr>\n",
       "      <th>1</th>\n",
       "      <td>5U4N-A</td>\n",
       "      <td>[4.1.2.13]</td>\n",
       "      <td>[4.1.2.13]</td>\n",
       "    </tr>\n",
       "    <tr>\n",
       "      <th>2</th>\n",
       "      <td>1NW6-A</td>\n",
       "      <td>[2.1.1.72]</td>\n",
       "      <td>[]</td>\n",
       "    </tr>\n",
       "    <tr>\n",
       "      <th>3</th>\n",
       "      <td>2AAK-A</td>\n",
       "      <td>[2.3.2.23]</td>\n",
       "      <td>[2.3.2.23, 2.3.2.24]</td>\n",
       "    </tr>\n",
       "    <tr>\n",
       "      <th>4</th>\n",
       "      <td>4S1N-A</td>\n",
       "      <td>[2.1.2.2]</td>\n",
       "      <td>[2.1.2.2]</td>\n",
       "    </tr>\n",
       "    <tr>\n",
       "      <th>...</th>\n",
       "      <td>...</td>\n",
       "      <td>...</td>\n",
       "      <td>...</td>\n",
       "    </tr>\n",
       "    <tr>\n",
       "      <th>1832</th>\n",
       "      <td>1VKE-A</td>\n",
       "      <td>[1.11.1.15]</td>\n",
       "      <td>[1.11.1.24, 1.11.1.15]</td>\n",
       "    </tr>\n",
       "    <tr>\n",
       "      <th>1833</th>\n",
       "      <td>1T5I-A</td>\n",
       "      <td>[3.6.4.13]</td>\n",
       "      <td>[]</td>\n",
       "    </tr>\n",
       "    <tr>\n",
       "      <th>1834</th>\n",
       "      <td>1JWE-A</td>\n",
       "      <td>[3.6.4.12]</td>\n",
       "      <td>[]</td>\n",
       "    </tr>\n",
       "    <tr>\n",
       "      <th>1835</th>\n",
       "      <td>3ZH3-A</td>\n",
       "      <td>[2.5.1.7]</td>\n",
       "      <td>[2.5.1.7]</td>\n",
       "    </tr>\n",
       "    <tr>\n",
       "      <th>1836</th>\n",
       "      <td>5L64-K</td>\n",
       "      <td>[3.4.25.1]</td>\n",
       "      <td>[3.4.25.1]</td>\n",
       "    </tr>\n",
       "  </tbody>\n",
       "</table>\n",
       "<p>1837 rows × 3 columns</p>\n",
       "</div>"
      ],
      "text/plain": [
       "     PDB-chain Ground truth         CPEC prediction\n",
       "0       2FOR-A   [2.5.1.10]     [2.5.1.10, 2.5.1.1]\n",
       "1       5U4N-A   [4.1.2.13]              [4.1.2.13]\n",
       "2       1NW6-A   [2.1.1.72]                      []\n",
       "3       2AAK-A   [2.3.2.23]    [2.3.2.23, 2.3.2.24]\n",
       "4       4S1N-A    [2.1.2.2]               [2.1.2.2]\n",
       "...        ...          ...                     ...\n",
       "1832    1VKE-A  [1.11.1.15]  [1.11.1.24, 1.11.1.15]\n",
       "1833    1T5I-A   [3.6.4.13]                      []\n",
       "1834    1JWE-A   [3.6.4.12]                      []\n",
       "1835    3ZH3-A    [2.5.1.7]               [2.5.1.7]\n",
       "1836    5L64-K   [3.4.25.1]              [3.4.25.1]\n",
       "\n",
       "[1837 rows x 3 columns]"
      ]
     },
     "execution_count": 5,
     "metadata": {},
     "output_type": "execute_result"
    }
   ],
   "source": [
    "# An example of prediction sets\n",
    "df"
   ]
  },
  {
   "cell_type": "code",
   "execution_count": null,
   "id": "eb7c1746-bff2-4185-929d-7efa4fd620e4",
   "metadata": {},
   "outputs": [],
   "source": []
  }
 ],
 "metadata": {
  "kernelspec": {
   "display_name": "Python 3",
   "language": "python",
   "name": "python3"
  },
  "language_info": {
   "codemirror_mode": {
    "name": "ipython",
    "version": 3
   },
   "file_extension": ".py",
   "mimetype": "text/x-python",
   "name": "python",
   "nbconvert_exporter": "python",
   "pygments_lexer": "ipython3",
   "version": "3.9.12"
  }
 },
 "nbformat": 4,
 "nbformat_minor": 5
}
